{
 "cells": [
  {
   "cell_type": "code",
   "execution_count": 4,
   "id": "15dd4321-3c71-4139-8947-5c92d632b9fc",
   "metadata": {},
   "outputs": [
    {
     "name": "stdout",
     "output_type": "stream",
     "text": [
      "12345 54321\n"
     ]
    },
    {
     "data": {
      "text/plain": [
       "3"
      ]
     },
     "execution_count": 4,
     "metadata": {},
     "output_type": "execute_result"
    }
   ],
   "source": [
    "a, b = 12345, 54321\n",
    "print(a,b)\n",
    "\n",
    "def euclid(a: int, b: int) -> int:\n",
    "    \"\"\"Классический алгоритм Евклида\"\"\"\n",
    "    while a != 0 and b != 0:\n",
    "        if a >= b:\n",
    "            a %= b\n",
    "        else:\n",
    "            b %= a\n",
    "    return a or b\n",
    "\n",
    "euclid(a, b)"
   ]
  },
  {
   "cell_type": "code",
   "execution_count": 5,
   "id": "ae76a41d-53b1-40e3-85c3-e2b8289773e1",
   "metadata": {},
   "outputs": [
    {
     "data": {
      "text/plain": [
       "3.0"
      ]
     },
     "execution_count": 5,
     "metadata": {},
     "output_type": "execute_result"
    }
   ],
   "source": [
    "def euclid_bin(a: int, b: int) -> int:\n",
    "    \"\"\"Бинарный алгоритм Евклида\"\"\"\n",
    "    g = 1\n",
    "    while a % 2 == 0 and b % 2 == 0:\n",
    "        a /= 2\n",
    "        b /= 2\n",
    "        g *= 2\n",
    "    u, v = a, b\n",
    "    while u != 0:\n",
    "        if u % 2 == 0:\n",
    "            u /= 2\n",
    "        if v%2 == 0:\n",
    "            v /= 2\n",
    "        if u>=v:\n",
    "            u -= v\n",
    "        else:\n",
    "            v -= u\n",
    "    return g*v\n",
    "\n",
    "euclid_bin(a, b)"
   ]
  },
  {
   "cell_type": "code",
   "execution_count": 6,
   "id": "d862f2c4-1730-47ca-a7f3-55739726b187",
   "metadata": {},
   "outputs": [
    {
     "data": {
      "text/plain": [
       "(3, 3617, -822)"
      ]
     },
     "execution_count": 6,
     "metadata": {},
     "output_type": "execute_result"
    }
   ],
   "source": [
    "def euclid_ext(a: int, b: int) -> tuple[int]:\n",
    "    \"\"\"Расширенный алгоритм Евклида\"\"\"\n",
    "    if a == 0:\n",
    "        return (b, 0, 1)\n",
    "    else:\n",
    "        div, x, y = euclid_ext(b % a, a)\n",
    "    return (div, y - ( b // a ) * x, x)\n",
    "\n",
    "euclid_ext(a, b)"
   ]
  },
  {
   "cell_type": "code",
   "execution_count": 7,
   "id": "1824b48d-1c60-429b-9a77-127652d70854",
   "metadata": {},
   "outputs": [
    {
     "data": {
      "text/plain": [
       "(3.0, -68811.0, 15638.0)"
      ]
     },
     "execution_count": 7,
     "metadata": {},
     "output_type": "execute_result"
    }
   ],
   "source": [
    "def euclid_bin_ext(a: int, b: int) -> tuple[int]:\n",
    "    \"\"\"Расширенный бинарный алгоритм Евклида\"\"\"\n",
    "    g = 1\n",
    "    while a % 2 == 0 and b % 2 == 0:\n",
    "        a /= 2\n",
    "        b /= 2\n",
    "        g *= 2\n",
    "    u, v = a, b\n",
    "    A, B, C, D = 1, 0, 0, 1\n",
    "    while u != 0:\n",
    "        if u % 2 == 0:\n",
    "            u /= 2\n",
    "            if A % 2 == 0 and B % 2 == 0:\n",
    "                A /= 2\n",
    "                B /= 2\n",
    "            else:\n",
    "                A = (A + b)/2\n",
    "                B = (B - a)/2\n",
    "        if v % 2 == 0:\n",
    "            v /= 2\n",
    "            if C % 2 == 0 and D % 2 == 0:\n",
    "                C /= 2\n",
    "                D /= 2\n",
    "            else:\n",
    "                C = (C + b)/2\n",
    "                D = (D - a)/2\n",
    "        if u>=v:\n",
    "            u -= v\n",
    "            A -= C\n",
    "            B -= D\n",
    "        else:\n",
    "            v -= u\n",
    "            C -= A\n",
    "            D -= B\n",
    "    return (g * v, C, D)\n",
    "\n",
    "euclid_bin_ext(a, b)"
   ]
  }
 ],
 "metadata": {
  "kernelspec": {
   "display_name": "Julia 1.10.0",
   "language": "julia",
   "name": "julia-1.10"
  },
  "language_info": {
   "file_extension": ".jl",
   "mimetype": "application/julia",
   "name": "julia",
   "version": "1.10.0"
  }
 },
 "nbformat": 4,
 "nbformat_minor": 5
}
